{
 "cells": [
  {
   "cell_type": "code",
   "execution_count": 1,
   "id": "41604722",
   "metadata": {},
   "outputs": [
    {
     "name": "stdout",
     "output_type": "stream",
     "text": [
      "['7WVI_1', '7WVI_2', '7FGK_1', '7FGK_2', '7SN1_1', '7SN1_2', '7KKH_1', '7KKH_2', '7PHS_1', '7PHS_2', '7UIJ_1', '7UIJ_2', '7UIJ_3', '7AJ6_1', '7AJ6_2', '7KX4_1', '7KX4_2', '7U62_1', '7U62_2', '8DFG_1', '8DFG_2', '8DFG_3', '8DFI_1', '8DFI_2', '8DFI_3', '7OX4_1', '7OX4_2', '7OX4_3', '7ST8_1', '7ST8_2', '7ST8_3', '7WG3_1', '7WG3_2', '7WG3_3', '7OX1_1', '7OX1_2', '7OX1_3', '7KMD_1', '7KMD_2', '7KMD_3', '7KMD_4', '7KMD_5', '7KMD_6', '7AMP_1', '7AMP_2', '7AMP_3', '7AMP_4', '7T25_2', '7T25_1', '7T25_3', '7S11_1', '7S11_2', '7S11_3', '7L7R_4', '7L7R_5', '7L7R_1', '7L7R_2', '7L7R_3', '8BSF_1', '8BSF_2', '8BSF_3', '7RD5_1', '7RD5_2', '7RD5_3', '7FH0_1', '7FH0_2', '8FHY_1', '8FHY_2', '8FHY_3', '8EZ8_1', '8EZ8_2', '8EZ8_3', '8SZY_1', '8SZY_2', '8SZY_3', '8SZY_4', '8SZY_5', '7ZXK_1', '7ZXK_2', '7ZXK_3', '7ZXK_4', '7XNF_1', '7XNF_2', '7XNF_3', '7A3Q_1', '7A3Q_3', '7A3Q_2', '7WN8_1', '7WN8_2', '7WN8_3', '8GX9_1', '8GX9_2', '8GX9_4', '8GX9_5', '8GX9_3', '7X2K_1', '7X2K_2', '7X2K_3', '7X2K_4', '7ANQ_1']\n"
     ]
    }
   ],
   "source": [
    "import os\n",
    "\n",
    "count = 0\n",
    "storage = []\n",
    "with open('recent_fasta_files.fasta') as f:\n",
    "    while count < 100:\n",
    "        tmpline = f.readline()\n",
    "        if tmpline[0] == '>':\n",
    "            count+=1\n",
    "            directory = \n",
    "            storage.append(tmpline[1:7])\n",
    "\n",
    "print(storage)"
   ]
  },
  {
   "cell_type": "code",
   "execution_count": null,
   "id": "a45d81be",
   "metadata": {},
   "outputs": [],
   "source": []
  },
  {
   "cell_type": "code",
   "execution_count": 4,
   "id": "d591f0c1",
   "metadata": {},
   "outputs": [
    {
     "name": "stdout",
     "output_type": "stream",
     "text": [
      "['1RUQ_1', '1RUQ_2', '1RUR_1', '1RUR_2', '1T4K_1', '1T4K_2', '3HC3_1', '3HC3_2', '3K81_1', '3K81_2', '4C83_1', '4C83_2', '4X7D_1', '4X7D_2', '4X7S_1', '4X7S_2', '5E2T_1', '5E2T_2', '1PSK_1', '1PSK_2', '2IPT_1', '2IPT_2', '3D69_1', '3D69_2', '6BE2_1', '6BE2_2', '1Q72_1', '1Q72_2', '2HKH_1', '2HKH_2', '2V7H_2', '2V7H_1', '2W60_1', '2W60_2', '2A9M_1', '2A9M_2', '1AE6_1', '1AE6_2', '5EOR_1', '5EOR_2', '5EOR_3', '5ADO_1', '5ADO_2', '5GS3_1', '1EEQ_1', '2OMB_1', '3RVU_1', '3RVU_2', '3WFH_1', '3WFH_2', '4POZ_1', '4POZ_2', '5MX3_1', '5MX3_2', '4ZG1_1', '1DLF_1', '1DLF_2', '1Q9L_2', '1Q9L_1', '2GK0_1', '2GK0_2', '2Q8B_1', '2Q8B_2', '2Q8B_3', '3SY0_1', '3SY0_2', '4NKO_1', '4NKO_2', '4ODH_1', '4ODH_2', '4QHN_1', '4QHN_2', '4TPR_1', '4TPR_2', '5I76_1', '5I76_2', '2CD0_1', '2J5L_1', '2J5L_2', '2J5L_3', '2P48_1', '2P48_2', '3CFB_1', '3CFB_2', '3NTC_1', '3NTC_2', '4NKM_1', '4NKM_2', '4QT5_1', '4QT5_2', '4X7T_1', '4X7T_2', '4YGV_1', '4YGV_2', '5IK3_1', '5IK3_2', '4YHO_1', '4YHO_2', '5GRV_1', '5GRV_2', '2R8S_1', '2R8S_2', '2R8S_3', '1T04_1', '1T04_2', '2XT1_1', '2XT1_2', '3KYK_1', '3KYK_2', '3ULS_1', '3ULS_2', '5DD1_1', '5DD1_2', '5DD5_1', '5DD5_2', '5E2U_1', '5E2U_2', '1JNL_1', '1JNL_2', '3IJH_1', '3IJH_2', '4X7E_1', '4X7E_2', '5IHU_1', '5IHU_2', '1Q9K_1', '1Q9K_2', '2H1P_1', '2H1P_2', '2H1P_3', '2V17_1', '2V17_2', '2V17_3', '5ILT_1', '5ILT_2', '3ZTN_2', '3ZTN_3', '3ZTN_4', '3ZTN_1', '4ODT_1', '4ODT_2']\n"
     ]
    }
   ],
   "source": [
    "count = 0\n",
    "storage = []\n",
    "with open('early_fasta_files_532.fasta') as f:\n",
    "    while count < 1000:\n",
    "        tmpline = f.readline()\n",
    "        if tmpline[0] == '>':\n",
    "            count+=1\n",
    "            storage.append(tmpline[1:7])\n",
    "\n",
    "print(storage[729:870])"
   ]
  },
  {
   "cell_type": "code",
   "execution_count": 3,
   "id": "ac5271af",
   "metadata": {},
   "outputs": [],
   "source": [
    "import os, shutil\n",
    "\n",
    "currentdir = \"C:/Users/Lenovo/OneDrive/Documents/GitHub\"\n",
    "\n",
    "currentdir = \"C:/Users/Lenovo/OneDrive/Documents/GitHub\"\n",
    "downloaddir = \"C:/Users/Lenovo/Downloads/I-tasser-run-notincluded_001-100/hpctmp/e0688551/I-tasser_install/72_outgroup_001-100/72_fasta_\"\n",
    "for count in range(1,101):\n",
    "    modeldest = downloaddir+str(count)+\"/model1.pdb\"\n",
    "    existflag = os.path.exists(modeldest)\n",
    "    if existflag:\n",
    "        src = modeldest\n",
    "        dst = currentdir + \"/72_notintrain_IT/\" + storage[count-1] + \".pdb\"\n",
    "        shutil.copyfile(src, dst)\n"
   ]
  },
  {
   "cell_type": "code",
   "execution_count": 4,
   "id": "c5d30276",
   "metadata": {},
   "outputs": [
    {
     "name": "stdout",
     "output_type": "stream",
     "text": [
      "hell\n"
     ]
    }
   ],
   "source": [
    "a = \"hello\"\n",
    "print(a[:4])"
   ]
  },
  {
   "cell_type": "code",
   "execution_count": 6,
   "id": "35ee5964",
   "metadata": {},
   "outputs": [
    {
     "name": "stdout",
     "output_type": "stream",
     "text": [
      "['7WVI_1', '7WVI_2', '7FGK_1', '7FGK_2', '7SN1_1', '7SN1_2', '7KKH_1', '7KKH_2', '7PHS_1', '7PHS_2', '7UIJ_1', '7UIJ_2', '7UIJ_3', '7AJ6_1', '7AJ6_2', '7KX4_1', '7KX4_2', '7U62_1', '7U62_2', '8DFG_1', '8DFG_2', '8DFG_3', '8DFI_1', '8DFI_2', '8DFI_3', '7OX4_1', '7OX4_2', '7OX4_3', '7ST8_1', '7ST8_2', '7ST8_3', '7WG3_1', '7WG3_2', '7WG3_3', '7OX1_1', '7OX1_2', '7OX1_3', '7KMD_1', '7KMD_2', '7KMD_3', '7KMD_4', '7KMD_5', '7KMD_6', '7AMP_1', '7AMP_2', '7AMP_3', '7AMP_4', '7T25_2', '7T25_1', '7T25_3', '7S11_1', '7S11_2', '7S11_3', '7L7R_4', '7L7R_5', '7L7R_1', '7L7R_2', '7L7R_3', '8BSF_1', '8BSF_2', '8BSF_3', '7RD5_1', '7RD5_2', '7RD5_3', '7FH0_1', '7FH0_2', '8FHY_1', '8FHY_2', '8FHY_3', '8EZ8_1', '8EZ8_2', '8EZ8_3', '8SZY_1', '8SZY_2', '8SZY_3', '8SZY_4', '8SZY_5', '7ZXK_1', '7ZXK_2', '7ZXK_3', '7ZXK_4', '7XNF_1', '7XNF_2', '7XNF_3', '7A3Q_1', '7A3Q_3', '7A3Q_2', '7WN8_1', '7WN8_2', '7WN8_3', '8GX9_1', '8GX9_2', '8GX9_4', '8GX9_5', '8GX9_3', '7X2K_1', '7X2K_2', '7X2K_3', '7X2K_4', '7ANQ_1']\n"
     ]
    }
   ],
   "source": [
    "print(storage)"
   ]
  },
  {
   "cell_type": "code",
   "execution_count": 4,
   "id": "b221f067",
   "metadata": {},
   "outputs": [
    {
     "name": "stdout",
     "output_type": "stream",
     "text": [
      "done\n"
     ]
    }
   ],
   "source": [
    "#new shorted not in training\n",
    "import os, shutil\n",
    "\n",
    "name = os.listdir(\"C:/Users/Lenovo/OneDrive/Documents/GitHub/testing_fasta_dataset_shortened\")\n",
    "\n",
    "downloaddir = \"C:/Users/Lenovo/Downloads/72_n_out/72_fasta_\"\n",
    "for i in range(len(name)):\n",
    "    modeldest = downloaddir+str(i+1)+\"/model1.pdb\"\n",
    "    existflag = os.path.exists(modeldest)\n",
    "    if existflag:\n",
    "        src = modeldest\n",
    "        dst = \"C:/Users/Lenovo/Downloads/TMalign_72/short_notintrain_IT/\" + name[i][:-12] + \".pdb\"\n",
    "        shutil.copyfile(src, dst)\n",
    "print(\"done\")"
   ]
  },
  {
   "cell_type": "code",
   "execution_count": 2,
   "id": "aaa4e5d7",
   "metadata": {},
   "outputs": [
    {
     "name": "stdout",
     "output_type": "stream",
     "text": [
      "['7A3Q_2_short.fasta', '7A3Q_3_short.fasta', '7AJ6_1_short.fasta', '7AJ6_2_short.fasta', '7AMP_3_short.fasta', '7AMP_4_short.fasta', '7ANQ_2_short.fasta', '7DJX_1_short.fasta', '7FGK_1_short.fasta', '7FGK_2_short.fasta', '7KKH_1_short.fasta', '7KKH_2_short.fasta', '7KMD_1_short.fasta', '7KMD_2_short.fasta', '7KMD_5_short.fasta', '7KMD_6_short.fasta', '7KX4_1_short.fasta', '7KX4_2_short.fasta', '7L7R_1_short.fasta', '7L7R_2_short.fasta', '7L7R_3_short.fasta', '7L7R_4_short.fasta', '7OX1_1_short.fasta', '7OX1_2_short.fasta', '7OX4_1_short.fasta', '7OX4_2_short.fasta', '7PHS_1_short.fasta', '7PHS_2_short.fasta', '7RD5_1_short.fasta', '7RD5_2_short.fasta', '7S11_2_short.fasta', '7S11_3_short.fasta', '7SN1_1_short.fasta', '7SN1_2_short.fasta', '7ST8_1_short.fasta', '7ST8_2_short.fasta', '7T25_1_short.fasta', '7T25_2_short.fasta', '7U62_1_short.fasta', '7U62_2_short.fasta', '7UIJ_1_short.fasta', '7UIJ_2_short.fasta', '7UTG_1_short.fasta', '7WG3_1_short.fasta', '7WG3_2_short.fasta', '7WN8_2_short.fasta', '7WN8_3_short.fasta', '7WVI_1_short.fasta', '7WVI_2_short.fasta', '7X2K_2_short.fasta', '7X2K_3_short.fasta', '7X2K_4_short.fasta', '7XNF_1_short.fasta', '7XNF_2_short.fasta', '7ZXK_3_short.fasta', '7ZXK_4_short.fasta', '8BSF_2_short.fasta', '8BSF_3_short.fasta', '8C3K_2_short.fasta', '8DFG_1_short.fasta', '8DFG_2_short.fasta', '8DFI_2_short.fasta', '8DFI_3_short.fasta', '8EZ8_1_short.fasta', '8EZ8_2_short.fasta', '8FHY_2_short.fasta', '8FHY_3_short.fasta', '8GX9_2_short.fasta', '8GX9_3_short.fasta', '8GX9_4_short.fasta', '8GX9_5_short.fasta', '8SZY_1_short.fasta', '8SZY_2_short.fasta', '8SZY_3_short.fasta', '8SZY_4_short.fasta']\n"
     ]
    }
   ],
   "source": [
    "import os\n",
    "print(os.listdir(\"C:/Users/Lenovo/OneDrive/Documents/GitHub/testing_fasta_dataset_shortened\"))"
   ]
  },
  {
   "cell_type": "code",
   "execution_count": 3,
   "id": "e386f863",
   "metadata": {},
   "outputs": [
    {
     "name": "stdout",
     "output_type": "stream",
     "text": [
      "done\n"
     ]
    }
   ],
   "source": [
    "#new shorted IN training\n",
    "import os, shutil\n",
    "\n",
    "name = os.listdir(\"C:/Users/Lenovo/OneDrive/Documents/GitHub/short_inc_fasta\")\n",
    "\n",
    "downloaddir = \"C:/Users/Lenovo/Downloads/72_n_inc/72_fasta_\"\n",
    "for i in range(len(name)):\n",
    "    modeldest = downloaddir+str(i+1)+\"/model1.pdb\"\n",
    "    existflag = os.path.exists(modeldest)\n",
    "    if existflag:\n",
    "        src = modeldest\n",
    "        dst = \"C:/Users/Lenovo/Downloads/TMalign_72/short_intrain_IT/\" + name[i][10:-6] + \".pdb\"\n",
    "        shutil.copyfile(src, dst)\n",
    "print(\"done\")"
   ]
  },
  {
   "cell_type": "code",
   "execution_count": 3,
   "id": "c3baab64",
   "metadata": {},
   "outputs": [
    {
     "name": "stdout",
     "output_type": "stream",
     "text": [
      "['shortened_1AE6_1.fasta', 'shortened_1AE6_2.fasta', 'shortened_1DLF_1.fasta', 'shortened_1DLF_2.fasta', 'shortened_1EEQ_1.fasta', 'shortened_1JNL_1.fasta', 'shortened_1JNL_2.fasta', 'shortened_1PSK_1.fasta', 'shortened_1PSK_2.fasta', 'shortened_1Q72_1.fasta', 'shortened_1Q72_2.fasta', 'shortened_1Q9K_1.fasta', 'shortened_1Q9K_2.fasta', 'shortened_1Q9L_1.fasta', 'shortened_1Q9L_2.fasta', 'shortened_1RUQ_1.fasta', 'shortened_1RUQ_2.fasta', 'shortened_1RUR_1.fasta', 'shortened_1RUR_2.fasta', 'shortened_1T04_1.fasta', 'shortened_1T04_2.fasta', 'shortened_1T4K_1.fasta', 'shortened_1T4K_2.fasta', 'shortened_2A9M_1.fasta', 'shortened_2A9M_2.fasta', 'shortened_2CD0_1.fasta', 'shortened_2GK0_1.fasta', 'shortened_2GK0_2.fasta', 'shortened_2H1P_1.fasta', 'shortened_2H1P_2.fasta', 'shortened_2H1P_3.fasta', 'shortened_2HKH_1.fasta', 'shortened_2HKH_2.fasta', 'shortened_2IPT_1.fasta', 'shortened_2IPT_2.fasta', 'shortened_2J5L_2.fasta', 'shortened_2J5L_3.fasta', 'shortened_2OMB_1.fasta', 'shortened_2P48_2.fasta', 'shortened_2Q8B_2.fasta', 'shortened_2Q8B_3.fasta', 'shortened_2R8S_2.fasta', 'shortened_2R8S_3.fasta', 'shortened_2V17_2.fasta', 'shortened_2V17_3.fasta', 'shortened_2V7H_1.fasta', 'shortened_2V7H_2.fasta', 'shortened_2W60_1.fasta', 'shortened_2W60_2.fasta', 'shortened_2XT1_2.fasta', 'shortened_3CFB_1.fasta', 'shortened_3CFB_2.fasta', 'shortened_3D69_1.fasta', 'shortened_3D69_2.fasta', 'shortened_3HC3_1.fasta', 'shortened_3HC3_2.fasta', 'shortened_3IJH_1.fasta', 'shortened_3IJH_2.fasta', 'shortened_3K81_2.fasta', 'shortened_3KYK_1.fasta', 'shortened_3KYK_2.fasta', 'shortened_3NTC_1.fasta', 'shortened_3NTC_2.fasta', 'shortened_3RVU_1.fasta', 'shortened_3RVU_2.fasta', 'shortened_3SY0_1.fasta', 'shortened_3SY0_2.fasta', 'shortened_3ULS_1.fasta', 'shortened_3ULS_2.fasta', 'shortened_3WFH_1.fasta', 'shortened_3WFH_2.fasta', 'shortened_3ZTN_3.fasta', 'shortened_3ZTN_4.fasta', 'shortened_4C83_1.fasta', 'shortened_4C83_2.fasta', 'shortened_4NKM_1.fasta', 'shortened_4NKM_2.fasta', 'shortened_4NKO_1.fasta', 'shortened_4NKO_2.fasta', 'shortened_4ODH_1.fasta', 'shortened_4ODH_2.fasta', 'shortened_4ODT_1.fasta', 'shortened_4ODT_2.fasta', 'shortened_4POZ_1.fasta', 'shortened_4POZ_2.fasta', 'shortened_4QHN_1.fasta', 'shortened_4QHN_2.fasta', 'shortened_4QT5_1.fasta', 'shortened_4QT5_2.fasta', 'shortened_4TPR_1.fasta', 'shortened_4TPR_2.fasta', 'shortened_4X7D_2.fasta', 'shortened_4X7E_1.fasta', 'shortened_4X7E_2.fasta', 'shortened_4X7S_1.fasta', 'shortened_4X7S_2.fasta', 'shortened_4X7T_1.fasta', 'shortened_4X7T_2.fasta', 'shortened_4YGV_1.fasta', 'shortened_4YGV_2.fasta', 'shortened_4YHO_1.fasta', 'shortened_4YHO_2.fasta', 'shortened_4ZG1_1.fasta', 'shortened_5ADO_1.fasta', 'shortened_5ADO_2.fasta', 'shortened_5DD1_1.fasta', 'shortened_5DD1_2.fasta', 'shortened_5DD5_1.fasta', 'shortened_5DD5_2.fasta', 'shortened_5E2T_1.fasta', 'shortened_5E2T_2.fasta', 'shortened_5E2U_1.fasta', 'shortened_5E2U_2.fasta', 'shortened_5EOR_1.fasta', 'shortened_5EOR_2.fasta', 'shortened_5GRV_1.fasta', 'shortened_5GRV_2.fasta', 'shortened_5GS3_1.fasta', 'shortened_5I76_1.fasta', 'shortened_5I76_2.fasta', 'shortened_5IHU_1.fasta', 'shortened_5IHU_2.fasta', 'shortened_5IK3_1.fasta', 'shortened_5IK3_2.fasta', 'shortened_5ILT_1.fasta', 'shortened_5ILT_2.fasta', 'shortened_5MX3_1.fasta', 'shortened_5MX3_2.fasta', 'shortened_6BE2_1.fasta', 'shortened_6BE2_2.fasta']\n"
     ]
    }
   ],
   "source": [
    "import os\n",
    "print(os.listdir(\"C:/Users/Lenovo/OneDrive/Documents/GitHub/short_inc_fasta\"))"
   ]
  },
  {
   "cell_type": "code",
   "execution_count": null,
   "id": "683e022d",
   "metadata": {},
   "outputs": [],
   "source": [
    "#new shorted OUT training\n",
    "import os, shutil\n",
    "\n",
    "name = os.listdir(\"C:/Users/Lenovo/OneDrive/Documents/GitHub/short_inc_fasta\")\n",
    "\n",
    "downloaddir = \"C:/Users/Lenovo/Downloads/72_n_inc/72_fasta_\"\n",
    "for i in range(len(name)):\n",
    "    modeldest = downloaddir+str(i+1)+\"/model1.pdb\"\n",
    "    existflag = os.path.exists(modeldest)\n",
    "    if existflag:\n",
    "        src = modeldest\n",
    "        dst = \"C:/Users/Lenovo/Downloads/TMalign_72/short_intrain_IT/\" + name[i][10:-6] + \".pdb\"\n",
    "        shutil.copyfile(src, dst)\n",
    "print(\"done\")"
   ]
  }
 ],
 "metadata": {
  "kernelspec": {
   "display_name": "Python 3 (ipykernel)",
   "language": "python",
   "name": "python3"
  },
  "language_info": {
   "codemirror_mode": {
    "name": "ipython",
    "version": 3
   },
   "file_extension": ".py",
   "mimetype": "text/x-python",
   "name": "python",
   "nbconvert_exporter": "python",
   "pygments_lexer": "ipython3",
   "version": "3.11.5"
  }
 },
 "nbformat": 4,
 "nbformat_minor": 5
}
