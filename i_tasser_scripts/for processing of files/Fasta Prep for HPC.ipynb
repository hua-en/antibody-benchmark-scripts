{
 "cells": [
  {
   "cell_type": "code",
   "execution_count": 6,
   "id": "af9aedbd",
   "metadata": {},
   "outputs": [],
   "source": [
    "import sys, os\n",
    "\n",
    "#currentdir = os.getcwd()\n",
    "currentdir = \"C:/Users/Lenovo/OneDrive/Documents/GitHub\"\n",
    "#os.mkdir('C:/Users/Lenovo/OneDrive/Documents/GitHub/72_n_out')\n",
    "for count in range(1,131):\n",
    "    os.mkdir(currentdir+'/72_n_inc/'+\"72_fasta_\"+str(count))"
   ]
  },
  {
   "cell_type": "code",
   "execution_count": 8,
   "id": "f91e3e58",
   "metadata": {},
   "outputs": [],
   "source": [
    "import shutil, os\n",
    "#to transfer files to hpc\n",
    "fastalst = os.listdir(\"C:/Users/Lenovo/OneDrive/Documents/GitHub/testing_fasta_dataset_shortened\")\n",
    "for i in range(len(fastalst)):\n",
    "    #name = storage[i-1]\n",
    "    src = \"C:/Users/Lenovo/OneDrive/Documents/GitHub/testing_fasta_dataset_shortened/\" + fastalst[i]\n",
    "    dst = \"C:/Users/Lenovo/OneDrive/Documents/GitHub/72_n_out/72_fasta_\" + str(i+1) + \"/seq.fasta\"\n",
    "    shutil.copyfile(src, dst)\n",
    "    #\"C:\\Users\\Lenovo\\OneDrive\\Documents\\GitHub\\recent_fasta_files_split_files\\recent_fasta_files_8.fasta\""
   ]
  },
  {
   "cell_type": "code",
   "execution_count": 21,
   "id": "a734fb2a",
   "metadata": {},
   "outputs": [
    {
     "data": {
      "text/plain": [
       "1"
      ]
     },
     "execution_count": 21,
     "metadata": {},
     "output_type": "execute_result"
    }
   ],
   "source": [
    "import os, sys\n",
    "\n",
    "os.system(\"set MY_VAR\")\n",
    "os.system(\"MY_VAR=hi\")"
   ]
  },
  {
   "cell_type": "code",
   "execution_count": 4,
   "id": "94dd3208",
   "metadata": {},
   "outputs": [
    {
     "name": "stdout",
     "output_type": "stream",
     "text": [
      "['7A3Q_2_short.fasta', '7A3Q_3_short.fasta', '7AJ6_1_short.fasta', '7AJ6_2_short.fasta', '7AMP_3_short.fasta', '7AMP_4_short.fasta', '7ANQ_2_short.fasta', '7DJX_1_short.fasta', '7FGK_1_short.fasta', '7FGK_2_short.fasta', '7KKH_1_short.fasta', '7KKH_2_short.fasta', '7KMD_1_short.fasta', '7KMD_2_short.fasta', '7KMD_5_short.fasta', '7KMD_6_short.fasta', '7KX4_1_short.fasta', '7KX4_2_short.fasta', '7L7R_1_short.fasta', '7L7R_2_short.fasta', '7L7R_3_short.fasta', '7L7R_4_short.fasta', '7OX1_1_short.fasta', '7OX1_2_short.fasta', '7OX4_1_short.fasta', '7OX4_2_short.fasta', '7PHS_1_short.fasta', '7PHS_2_short.fasta', '7RD5_1_short.fasta', '7RD5_2_short.fasta', '7S11_2_short.fasta', '7S11_3_short.fasta', '7SN1_1_short.fasta', '7SN1_2_short.fasta', '7ST8_1_short.fasta', '7ST8_2_short.fasta', '7T25_1_short.fasta', '7T25_2_short.fasta', '7U62_1_short.fasta', '7U62_2_short.fasta', '7UIJ_1_short.fasta', '7UIJ_2_short.fasta', '7UTG_1_short.fasta', '7WG3_1_short.fasta', '7WG3_2_short.fasta', '7WN8_2_short.fasta', '7WN8_3_short.fasta', '7WVI_1_short.fasta', '7WVI_2_short.fasta', '7X2K_2_short.fasta', '7X2K_3_short.fasta', '7X2K_4_short.fasta', '7XNF_1_short.fasta', '7XNF_2_short.fasta', '7ZXK_3_short.fasta', '7ZXK_4_short.fasta', '8BSF_2_short.fasta', '8BSF_3_short.fasta', '8C3K_2_short.fasta', '8DFG_1_short.fasta', '8DFG_2_short.fasta', '8DFI_2_short.fasta', '8DFI_3_short.fasta', '8EZ8_1_short.fasta', '8EZ8_2_short.fasta', '8FHY_2_short.fasta', '8FHY_3_short.fasta', '8GX9_2_short.fasta', '8GX9_3_short.fasta', '8GX9_4_short.fasta', '8GX9_5_short.fasta', '8SZY_1_short.fasta', '8SZY_2_short.fasta', '8SZY_3_short.fasta', '8SZY_4_short.fasta']\n",
      "75\n"
     ]
    }
   ],
   "source": [
    "#001-x_not in training dataset\n",
    "print(os.listdir(\"C:/Users/Lenovo/OneDrive/Documents/GitHub/testing_fasta_dataset_shortened\"))\n",
    "print(len(os.listdir(\"C:/Users/Lenovo/OneDrive/Documents/GitHub/testing_fasta_dataset_shortened\")))"
   ]
  },
  {
   "cell_type": "code",
   "execution_count": 9,
   "id": "ae1f0701",
   "metadata": {},
   "outputs": [],
   "source": [
    "#for those in training dataset\n",
    "import shutil, os\n",
    "#to transfer files to hpc\n",
    "fastalst = os.listdir(\"C:/Users/Lenovo/OneDrive/Documents/GitHub/short_inc_fasta\")\n",
    "for i in range(len(fastalst)):\n",
    "    #name = storage[i-1]\n",
    "    src = \"C:/Users/Lenovo/OneDrive/Documents/GitHub/short_inc_fasta/\" + fastalst[i]\n",
    "    dst = \"C:/Users/Lenovo/OneDrive/Documents/GitHub/72_n_inc/72_fasta_\" + str(i+1) + \"/seq.fasta\"\n",
    "    shutil.copyfile(src, dst)\n",
    "    #\"C:\\Users\\Lenovo\\OneDrive\\Documents\\GitHub\\recent_fasta_files_split_files\\recent_fasta_files_8.fasta\""
   ]
  },
  {
   "cell_type": "code",
   "execution_count": 5,
   "id": "94a57b32",
   "metadata": {},
   "outputs": [
    {
     "name": "stdout",
     "output_type": "stream",
     "text": [
      "['shortened_1AE6_1.fasta', 'shortened_1AE6_2.fasta', 'shortened_1DLF_1.fasta', 'shortened_1DLF_2.fasta', 'shortened_1EEQ_1.fasta', 'shortened_1JNL_1.fasta', 'shortened_1JNL_2.fasta', 'shortened_1PSK_1.fasta', 'shortened_1PSK_2.fasta', 'shortened_1Q72_1.fasta', 'shortened_1Q72_2.fasta', 'shortened_1Q9K_1.fasta', 'shortened_1Q9K_2.fasta', 'shortened_1Q9L_1.fasta', 'shortened_1Q9L_2.fasta', 'shortened_1RUQ_1.fasta', 'shortened_1RUQ_2.fasta', 'shortened_1RUR_1.fasta', 'shortened_1RUR_2.fasta', 'shortened_1T04_1.fasta', 'shortened_1T04_2.fasta', 'shortened_1T4K_1.fasta', 'shortened_1T4K_2.fasta', 'shortened_2A9M_1.fasta', 'shortened_2A9M_2.fasta', 'shortened_2CD0_1.fasta', 'shortened_2GK0_1.fasta', 'shortened_2GK0_2.fasta', 'shortened_2H1P_1.fasta', 'shortened_2H1P_2.fasta', 'shortened_2H1P_3.fasta', 'shortened_2HKH_1.fasta', 'shortened_2HKH_2.fasta', 'shortened_2IPT_1.fasta', 'shortened_2IPT_2.fasta', 'shortened_2J5L_2.fasta', 'shortened_2J5L_3.fasta', 'shortened_2OMB_1.fasta', 'shortened_2P48_2.fasta', 'shortened_2Q8B_2.fasta', 'shortened_2Q8B_3.fasta', 'shortened_2R8S_2.fasta', 'shortened_2R8S_3.fasta', 'shortened_2V17_2.fasta', 'shortened_2V17_3.fasta', 'shortened_2V7H_1.fasta', 'shortened_2V7H_2.fasta', 'shortened_2W60_1.fasta', 'shortened_2W60_2.fasta', 'shortened_2XT1_2.fasta', 'shortened_3CFB_1.fasta', 'shortened_3CFB_2.fasta', 'shortened_3D69_1.fasta', 'shortened_3D69_2.fasta', 'shortened_3HC3_1.fasta', 'shortened_3HC3_2.fasta', 'shortened_3IJH_1.fasta', 'shortened_3IJH_2.fasta', 'shortened_3K81_2.fasta', 'shortened_3KYK_1.fasta', 'shortened_3KYK_2.fasta', 'shortened_3NTC_1.fasta', 'shortened_3NTC_2.fasta', 'shortened_3RVU_1.fasta', 'shortened_3RVU_2.fasta', 'shortened_3SY0_1.fasta', 'shortened_3SY0_2.fasta', 'shortened_3ULS_1.fasta', 'shortened_3ULS_2.fasta', 'shortened_3WFH_1.fasta', 'shortened_3WFH_2.fasta', 'shortened_3ZTN_3.fasta', 'shortened_3ZTN_4.fasta', 'shortened_4C83_1.fasta', 'shortened_4C83_2.fasta', 'shortened_4NKM_1.fasta', 'shortened_4NKM_2.fasta', 'shortened_4NKO_1.fasta', 'shortened_4NKO_2.fasta', 'shortened_4ODH_1.fasta', 'shortened_4ODH_2.fasta', 'shortened_4ODT_1.fasta', 'shortened_4ODT_2.fasta', 'shortened_4POZ_1.fasta', 'shortened_4POZ_2.fasta', 'shortened_4QHN_1.fasta', 'shortened_4QHN_2.fasta', 'shortened_4QT5_1.fasta', 'shortened_4QT5_2.fasta', 'shortened_4TPR_1.fasta', 'shortened_4TPR_2.fasta', 'shortened_4X7D_2.fasta', 'shortened_4X7E_1.fasta', 'shortened_4X7E_2.fasta', 'shortened_4X7S_1.fasta', 'shortened_4X7S_2.fasta', 'shortened_4X7T_1.fasta', 'shortened_4X7T_2.fasta', 'shortened_4YGV_1.fasta', 'shortened_4YGV_2.fasta', 'shortened_4YHO_1.fasta', 'shortened_4YHO_2.fasta', 'shortened_4ZG1_1.fasta', 'shortened_5ADO_1.fasta', 'shortened_5ADO_2.fasta', 'shortened_5DD1_1.fasta', 'shortened_5DD1_2.fasta', 'shortened_5DD5_1.fasta', 'shortened_5DD5_2.fasta', 'shortened_5E2T_1.fasta', 'shortened_5E2T_2.fasta', 'shortened_5E2U_1.fasta', 'shortened_5E2U_2.fasta', 'shortened_5EOR_1.fasta', 'shortened_5EOR_2.fasta', 'shortened_5GRV_1.fasta', 'shortened_5GRV_2.fasta', 'shortened_5GS3_1.fasta', 'shortened_5I76_1.fasta', 'shortened_5I76_2.fasta', 'shortened_5IHU_1.fasta', 'shortened_5IHU_2.fasta', 'shortened_5IK3_1.fasta', 'shortened_5IK3_2.fasta', 'shortened_5ILT_1.fasta', 'shortened_5ILT_2.fasta', 'shortened_5MX3_1.fasta', 'shortened_5MX3_2.fasta', 'shortened_6BE2_1.fasta', 'shortened_6BE2_2.fasta']\n",
      "130\n"
     ]
    }
   ],
   "source": [
    "#001-x in training set\n",
    "print(os.listdir(\"C:/Users/Lenovo/OneDrive/Documents/GitHub/short_inc_fasta\"))\n",
    "print(len(os.listdir(\"C:/Users/Lenovo/OneDrive/Documents/GitHub/short_inc_fasta\")))"
   ]
  },
  {
   "cell_type": "code",
   "execution_count": null,
   "id": "ebeba332",
   "metadata": {},
   "outputs": [],
   "source": []
  }
 ],
 "metadata": {
  "kernelspec": {
   "display_name": "Python 3 (ipykernel)",
   "language": "python",
   "name": "python3"
  },
  "language_info": {
   "codemirror_mode": {
    "name": "ipython",
    "version": 3
   },
   "file_extension": ".py",
   "mimetype": "text/x-python",
   "name": "python",
   "nbconvert_exporter": "python",
   "pygments_lexer": "ipython3",
   "version": "3.11.5"
  }
 },
 "nbformat": 4,
 "nbformat_minor": 5
}
